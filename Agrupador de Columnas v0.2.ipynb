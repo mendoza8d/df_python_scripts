{
 "cells": [
  {
   "cell_type": "markdown",
   "metadata": {},
   "source": [
    "# Agrupamos 2 o más columnas en una sola"
   ]
  },
  {
   "cell_type": "code",
   "execution_count": 1,
   "metadata": {},
   "outputs": [],
   "source": [
    "import pandas as pd"
   ]
  },
  {
   "cell_type": "code",
   "execution_count": 2,
   "metadata": {
    "scrolled": false
   },
   "outputs": [],
   "source": [
    "data = pd.read_csv(\"archivo.csv\", encoding='latin1', header=[0]) "
   ]
  },
  {
   "cell_type": "code",
   "execution_count": 4,
   "metadata": {
    "scrolled": true
   },
   "outputs": [],
   "source": [
    "#data.head()"
   ]
  },
  {
   "cell_type": "markdown",
   "metadata": {},
   "source": [
    "Creamos una comprensión de la lista de Python, esta lista sera \"c\" que va delante del \"for\" y dentro de los [ ] que indican que es una lista. \n",
    "Cuando el \"for\" lee el csv condiciona con \"if\" y el metodo \"startswith()\" que si la columna comienza con 'A.' se guarde en la lista \"c\".\n",
    "\n",
    "Donde **startswith()** es un método devuelve True si la cadena comienza con el valor especificado; de lo contrario, False\n",
    "\n",
    "Otro metodo es **isdigit()** verifica si es Verdadero o Falso si un elemento de cadena (texto) es un número."
   ]
  },
  {
   "cell_type": "code",
   "execution_count": 6,
   "metadata": {},
   "outputs": [],
   "source": [
    "keys = [c for c in data if c.startswith('A.')]\n",
    "#keys"
   ]
  },
  {
   "cell_type": "code",
   "execution_count": null,
   "metadata": {},
   "outputs": [],
   "source": [
    "#df = df.drop(df.columns[[1, 3]], axis='columns')"
   ]
  },
  {
   "cell_type": "markdown",
   "metadata": {},
   "source": [
    "Funcion pandas **melt()** Desvincula un DataFrame de formato ancho a largo. Se usa en columnas \"sin pivotar\" en el eje de la fila, dejando solo dos no identificadores columnas, 'variable' y 'valor', en este caso var_name='A_SEMANA', value_name='MONTO'\n",
    "\n",
    "**data** = variable donde esta almacenado el csv\n",
    "\n",
    "**id_vars** = [ *'Lista de columnas que no pivotea'* ]\n",
    "\n",
    "**value_vars** = Lista de columnas para pivotear. Si no se especifica, utiliza todas las columnas que no están establecidas como id_vars \n",
    "\n",
    "**var_name** = Nombre a utilizar para la columna variable\n",
    "\n",
    "**value_name** = Nombre a utilizar para la columna con los valores"
   ]
  },
  {
   "cell_type": "code",
   "execution_count": 8,
   "metadata": {},
   "outputs": [],
   "source": [
    "data_agrupado = pd.melt(data, id_vars=['TIPO', 'CUENTA','NUMERO_CUENTA','DESCRIPCION_CUENTA','PROYECTO','PROYECTO_ID'], value_vars=keys, var_name='A_SEMANA', value_name='MONTO')\n",
    "#data_agrupado"
   ]
  },
  {
   "cell_type": "markdown",
   "metadata": {},
   "source": [
    "#### Extraer texto\n",
    "\n",
    "Como la columna que queremos usar tiene sus valores que inician con \"A.\" \n",
    "\n",
    "Extraer a partir del 3er caracter **.str[2:]**\n",
    "\n",
    "Extraer los dos ultimos caracteres **.str[-2:]**\n",
    "\n",
    "Extraer los dos primeros caracteres **.str[:2]**\n",
    "\n",
    "Extraer a partir del ante-penultimo caracter **.str[:-2]**"
   ]
  },
  {
   "cell_type": "code",
   "execution_count": null,
   "metadata": {},
   "outputs": [],
   "source": [
    "df1 = data_agrupado\n",
    "df1['SEMANA'] = df1['A_SEMANA'].str[2:]\n",
    "df1.drop(['A_SEMANA'], axis='columns', inplace=True) # borrar la columna\n",
    "df1"
   ]
  },
  {
   "cell_type": "code",
   "execution_count": null,
   "metadata": {},
   "outputs": [],
   "source": [
    "#df2 = data_agrupado\n",
    "#df2['SEMANA'] = df2.A_SEMANA.str.extract(r'\\b(\\w+)$', expand=True)\n",
    "#df2.drop(['A_SEMANA'], axis='columns', inplace=True) # borrar la columna\n",
    "#df2"
   ]
  },
  {
   "cell_type": "code",
   "execution_count": 141,
   "metadata": {},
   "outputs": [],
   "source": [
    "data_agrupado.to_csv(\"archivo-csv.csv\", index=False)  # Genera CSV"
   ]
  }
 ],
 "metadata": {
  "kernelspec": {
   "display_name": "Python 3",
   "language": "python",
   "name": "python3"
  },
  "language_info": {
   "codemirror_mode": {
    "name": "ipython",
    "version": 3
   },
   "file_extension": ".py",
   "mimetype": "text/x-python",
   "name": "python",
   "nbconvert_exporter": "python",
   "pygments_lexer": "ipython3",
   "version": "3.6.5"
  }
 },
 "nbformat": 4,
 "nbformat_minor": 2
}
